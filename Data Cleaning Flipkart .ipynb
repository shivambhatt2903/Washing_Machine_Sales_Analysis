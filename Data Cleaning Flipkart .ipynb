{
 "cells": [
  {
   "cell_type": "markdown",
   "id": "78f8d060",
   "metadata": {},
   "source": [
    "## Import Libraries"
   ]
  },
  {
   "cell_type": "code",
   "execution_count": null,
   "id": "1a9cf1fa",
   "metadata": {},
   "outputs": [],
   "source": [
    "import pandas as pd\n",
    "import seaborn as sns\n",
    "import matplotlib.pyplot as plt ## max speed median,EConsumption Rating 5,warranty median,price cca,type cca\n",
    "import numpy as np"
   ]
  },
  {
   "cell_type": "markdown",
   "id": "3d784d29",
   "metadata": {},
   "source": [
    "## Import Data"
   ]
  },
  {
   "cell_type": "code",
   "execution_count": 220,
   "id": "2342720a",
   "metadata": {},
   "outputs": [
    {
     "data": {
      "text/html": [
       "<div>\n",
       "<style scoped>\n",
       "    .dataframe tbody tr th:only-of-type {\n",
       "        vertical-align: middle;\n",
       "    }\n",
       "\n",
       "    .dataframe tbody tr th {\n",
       "        vertical-align: top;\n",
       "    }\n",
       "\n",
       "    .dataframe thead th {\n",
       "        text-align: right;\n",
       "    }\n",
       "</style>\n",
       "<table border=\"1\" class=\"dataframe\">\n",
       "  <thead>\n",
       "    <tr style=\"text-align: right;\">\n",
       "      <th></th>\n",
       "      <th>Unnamed: 0</th>\n",
       "      <th>Informations</th>\n",
       "      <th>Max_Speed</th>\n",
       "      <th>Electric_Consumption_Rating</th>\n",
       "      <th>Warranty</th>\n",
       "      <th>Prices</th>\n",
       "      <th>Discount_Percentage</th>\n",
       "    </tr>\n",
       "  </thead>\n",
       "  <tbody>\n",
       "    <tr>\n",
       "      <th>0</th>\n",
       "      <td>0</td>\n",
       "      <td>realme TechLife 7 kg 5 Star rating Semi Automa...</td>\n",
       "      <td>1450 rpm Max Speed</td>\n",
       "      <td>5 Star Rating</td>\n",
       "      <td>2 Years Comprehensive Warranty on Product</td>\n",
       "      <td>₹9,200</td>\n",
       "      <td>48% off</td>\n",
       "    </tr>\n",
       "    <tr>\n",
       "      <th>1</th>\n",
       "      <td>1</td>\n",
       "      <td>FOXSKY 8 kg Semi Automatic Top Load Washing Ma...</td>\n",
       "      <td>700 rpm Max Speed</td>\n",
       "      <td>5 Star Rating</td>\n",
       "      <td>2 Years Comprehensive Warranty on Product and ...</td>\n",
       "      <td>₹12,190</td>\n",
       "      <td>45% off</td>\n",
       "    </tr>\n",
       "    <tr>\n",
       "      <th>2</th>\n",
       "      <td>2</td>\n",
       "      <td>realme TechLife 7.5 kg 5 Star Rating Semi Auto...</td>\n",
       "      <td>740 rpm Max Speed</td>\n",
       "      <td>5 Star Rating</td>\n",
       "      <td>2 Years Warranty on Product and 5 Years Warran...</td>\n",
       "      <td>₹7,690</td>\n",
       "      <td>45% off</td>\n",
       "    </tr>\n",
       "    <tr>\n",
       "      <th>3</th>\n",
       "      <td>3</td>\n",
       "      <td>MarQ by Flipkart 6 kg 5 Star Rating Innowash R...</td>\n",
       "      <td>1350 rpm Max Speed</td>\n",
       "      <td>5 Star Rating</td>\n",
       "      <td>2 Years Comprehensive Warranty on Product and ...</td>\n",
       "      <td>₹6,490</td>\n",
       "      <td>20% off</td>\n",
       "    </tr>\n",
       "    <tr>\n",
       "      <th>4</th>\n",
       "      <td>4</td>\n",
       "      <td>SAMSUNG 7 kg 5 star, Ecobubble, Digital Invert...</td>\n",
       "      <td>1350 rpm Max Speed</td>\n",
       "      <td>5 Star Rating</td>\n",
       "      <td>2 Years Warranty on Product and 5 Years Warran...</td>\n",
       "      <td>₹17,990</td>\n",
       "      <td>40% off</td>\n",
       "    </tr>\n",
       "  </tbody>\n",
       "</table>\n",
       "</div>"
      ],
      "text/plain": [
       "   Unnamed: 0                                       Informations  \\\n",
       "0           0  realme TechLife 7 kg 5 Star rating Semi Automa...   \n",
       "1           1  FOXSKY 8 kg Semi Automatic Top Load Washing Ma...   \n",
       "2           2  realme TechLife 7.5 kg 5 Star Rating Semi Auto...   \n",
       "3           3  MarQ by Flipkart 6 kg 5 Star Rating Innowash R...   \n",
       "4           4  SAMSUNG 7 kg 5 star, Ecobubble, Digital Invert...   \n",
       "\n",
       "            Max_Speed Electric_Consumption_Rating  \\\n",
       "0  1450 rpm Max Speed               5 Star Rating   \n",
       "1   700 rpm Max Speed               5 Star Rating   \n",
       "2   740 rpm Max Speed               5 Star Rating   \n",
       "3  1350 rpm Max Speed               5 Star Rating   \n",
       "4  1350 rpm Max Speed               5 Star Rating   \n",
       "\n",
       "                                            Warranty   Prices  \\\n",
       "0          2 Years Comprehensive Warranty on Product   ₹9,200   \n",
       "1  2 Years Comprehensive Warranty on Product and ...  ₹12,190   \n",
       "2  2 Years Warranty on Product and 5 Years Warran...   ₹7,690   \n",
       "3  2 Years Comprehensive Warranty on Product and ...   ₹6,490   \n",
       "4  2 Years Warranty on Product and 5 Years Warran...  ₹17,990   \n",
       "\n",
       "  Discount_Percentage  \n",
       "0             48% off  \n",
       "1             45% off  \n",
       "2             45% off  \n",
       "3             20% off  \n",
       "4             40% off  "
      ]
     },
     "execution_count": 220,
     "metadata": {},
     "output_type": "execute_result"
    }
   ],
   "source": [
    "df = pd.read_csv(\"flipkart_washing_machine.csv\")\n",
    "df.head()"
   ]
  },
  {
   "cell_type": "markdown",
   "id": "4eacd546",
   "metadata": {},
   "source": [
    "## Check Null Values"
   ]
  },
  {
   "cell_type": "code",
   "execution_count": 221,
   "id": "a9996239",
   "metadata": {},
   "outputs": [
    {
     "data": {
      "text/plain": [
       "Unnamed: 0                      0.000000\n",
       "Informations                   12.573443\n",
       "Max_Speed                      38.425382\n",
       "Electric_Consumption_Rating    19.388954\n",
       "Warranty                       33.019976\n",
       "Prices                         12.808461\n",
       "Discount_Percentage             0.000000\n",
       "dtype: float64"
      ]
     },
     "execution_count": 221,
     "metadata": {},
     "output_type": "execute_result"
    }
   ],
   "source": [
    "df.isnull().mean()*100"
   ]
  },
  {
   "cell_type": "markdown",
   "id": "7aacbe4f",
   "metadata": {},
   "source": [
    "## Rename Unnamed Column to S.No"
   ]
  },
  {
   "cell_type": "code",
   "execution_count": 222,
   "id": "2276f4ba",
   "metadata": {},
   "outputs": [],
   "source": [
    "df=df.rename(columns={\"Unnamed: 0\":\"S.No\"})"
   ]
  },
  {
   "cell_type": "markdown",
   "id": "ed895d2b",
   "metadata": {},
   "source": [
    "## Set_Index As S.No"
   ]
  },
  {
   "cell_type": "code",
   "execution_count": 223,
   "id": "25a2a28b",
   "metadata": {},
   "outputs": [],
   "source": [
    "df.set_index(\"S.No\",inplace=True)"
   ]
  },
  {
   "cell_type": "code",
   "execution_count": 224,
   "id": "7e0e4e88",
   "metadata": {},
   "outputs": [
    {
     "data": {
      "text/html": [
       "<div>\n",
       "<style scoped>\n",
       "    .dataframe tbody tr th:only-of-type {\n",
       "        vertical-align: middle;\n",
       "    }\n",
       "\n",
       "    .dataframe tbody tr th {\n",
       "        vertical-align: top;\n",
       "    }\n",
       "\n",
       "    .dataframe thead th {\n",
       "        text-align: right;\n",
       "    }\n",
       "</style>\n",
       "<table border=\"1\" class=\"dataframe\">\n",
       "  <thead>\n",
       "    <tr style=\"text-align: right;\">\n",
       "      <th></th>\n",
       "      <th>Informations</th>\n",
       "      <th>Max_Speed</th>\n",
       "      <th>Electric_Consumption_Rating</th>\n",
       "      <th>Warranty</th>\n",
       "      <th>Prices</th>\n",
       "      <th>Discount_Percentage</th>\n",
       "    </tr>\n",
       "    <tr>\n",
       "      <th>S.No</th>\n",
       "      <th></th>\n",
       "      <th></th>\n",
       "      <th></th>\n",
       "      <th></th>\n",
       "      <th></th>\n",
       "      <th></th>\n",
       "    </tr>\n",
       "  </thead>\n",
       "  <tbody>\n",
       "    <tr>\n",
       "      <th>0</th>\n",
       "      <td>realme TechLife 7 kg 5 Star rating Semi Automa...</td>\n",
       "      <td>1450 rpm Max Speed</td>\n",
       "      <td>5 Star Rating</td>\n",
       "      <td>2 Years Comprehensive Warranty on Product</td>\n",
       "      <td>₹9,200</td>\n",
       "      <td>48% off</td>\n",
       "    </tr>\n",
       "    <tr>\n",
       "      <th>1</th>\n",
       "      <td>FOXSKY 8 kg Semi Automatic Top Load Washing Ma...</td>\n",
       "      <td>700 rpm Max Speed</td>\n",
       "      <td>5 Star Rating</td>\n",
       "      <td>2 Years Comprehensive Warranty on Product and ...</td>\n",
       "      <td>₹12,190</td>\n",
       "      <td>45% off</td>\n",
       "    </tr>\n",
       "    <tr>\n",
       "      <th>2</th>\n",
       "      <td>realme TechLife 7.5 kg 5 Star Rating Semi Auto...</td>\n",
       "      <td>740 rpm Max Speed</td>\n",
       "      <td>5 Star Rating</td>\n",
       "      <td>2 Years Warranty on Product and 5 Years Warran...</td>\n",
       "      <td>₹7,690</td>\n",
       "      <td>45% off</td>\n",
       "    </tr>\n",
       "    <tr>\n",
       "      <th>3</th>\n",
       "      <td>MarQ by Flipkart 6 kg 5 Star Rating Innowash R...</td>\n",
       "      <td>1350 rpm Max Speed</td>\n",
       "      <td>5 Star Rating</td>\n",
       "      <td>2 Years Comprehensive Warranty on Product and ...</td>\n",
       "      <td>₹6,490</td>\n",
       "      <td>20% off</td>\n",
       "    </tr>\n",
       "    <tr>\n",
       "      <th>4</th>\n",
       "      <td>SAMSUNG 7 kg 5 star, Ecobubble, Digital Invert...</td>\n",
       "      <td>1350 rpm Max Speed</td>\n",
       "      <td>5 Star Rating</td>\n",
       "      <td>2 Years Warranty on Product and 5 Years Warran...</td>\n",
       "      <td>₹17,990</td>\n",
       "      <td>40% off</td>\n",
       "    </tr>\n",
       "  </tbody>\n",
       "</table>\n",
       "</div>"
      ],
      "text/plain": [
       "                                           Informations           Max_Speed  \\\n",
       "S.No                                                                          \n",
       "0     realme TechLife 7 kg 5 Star rating Semi Automa...  1450 rpm Max Speed   \n",
       "1     FOXSKY 8 kg Semi Automatic Top Load Washing Ma...   700 rpm Max Speed   \n",
       "2     realme TechLife 7.5 kg 5 Star Rating Semi Auto...   740 rpm Max Speed   \n",
       "3     MarQ by Flipkart 6 kg 5 Star Rating Innowash R...  1350 rpm Max Speed   \n",
       "4     SAMSUNG 7 kg 5 star, Ecobubble, Digital Invert...  1350 rpm Max Speed   \n",
       "\n",
       "     Electric_Consumption_Rating  \\\n",
       "S.No                               \n",
       "0                  5 Star Rating   \n",
       "1                  5 Star Rating   \n",
       "2                  5 Star Rating   \n",
       "3                  5 Star Rating   \n",
       "4                  5 Star Rating   \n",
       "\n",
       "                                               Warranty   Prices  \\\n",
       "S.No                                                               \n",
       "0             2 Years Comprehensive Warranty on Product   ₹9,200   \n",
       "1     2 Years Comprehensive Warranty on Product and ...  ₹12,190   \n",
       "2     2 Years Warranty on Product and 5 Years Warran...   ₹7,690   \n",
       "3     2 Years Comprehensive Warranty on Product and ...   ₹6,490   \n",
       "4     2 Years Warranty on Product and 5 Years Warran...  ₹17,990   \n",
       "\n",
       "     Discount_Percentage  \n",
       "S.No                      \n",
       "0                48% off  \n",
       "1                45% off  \n",
       "2                45% off  \n",
       "3                20% off  \n",
       "4                40% off  "
      ]
     },
     "execution_count": 224,
     "metadata": {},
     "output_type": "execute_result"
    }
   ],
   "source": [
    "df.head()"
   ]
  },
  {
   "cell_type": "markdown",
   "id": "9e89601f",
   "metadata": {},
   "source": [
    "## Drop Informations Column Null Values  Using CCA"
   ]
  },
  {
   "cell_type": "code",
   "execution_count": 226,
   "id": "54528c07",
   "metadata": {},
   "outputs": [],
   "source": [
    "df.dropna(subset=[\"Informations\"],inplace=True)"
   ]
  },
  {
   "cell_type": "markdown",
   "id": "96bd3bd0",
   "metadata": {},
   "source": [
    "## Extract Only Numerical Values From Max_Speed Column "
   ]
  },
  {
   "cell_type": "code",
   "execution_count": 229,
   "id": "bb8ce73d",
   "metadata": {},
   "outputs": [],
   "source": [
    "df['Max_Speed'] = df['Max_Speed'].str.extract(r'(\\d+)')"
   ]
  },
  {
   "cell_type": "markdown",
   "id": "f8792ad8",
   "metadata": {},
   "source": [
    "## Extract Only Numerical Values From Electric_Consumption_Rating"
   ]
  },
  {
   "cell_type": "code",
   "execution_count": 230,
   "id": "9e2dbac8",
   "metadata": {},
   "outputs": [],
   "source": [
    "df[\"Electric_Consumption_Rating\"]=df[\"Electric_Consumption_Rating\"].str.extract(r'(\\d+)')"
   ]
  },
  {
   "cell_type": "markdown",
   "id": "9aa15750",
   "metadata": {},
   "source": [
    "## Remove Rupees Sign From Price Column"
   ]
  },
  {
   "cell_type": "code",
   "execution_count": 232,
   "id": "16d14717",
   "metadata": {},
   "outputs": [],
   "source": [
    "df[\"Prices\"]=df[\"Prices\"].str[1:]"
   ]
  },
  {
   "cell_type": "markdown",
   "id": "5f22eba6",
   "metadata": {},
   "source": [
    "## Extract Only Numerical Values From Discount% Column"
   ]
  },
  {
   "cell_type": "code",
   "execution_count": 233,
   "id": "89939fcc",
   "metadata": {},
   "outputs": [],
   "source": [
    "df[\"Discount_Percentage\"]=df[\"Discount_Percentage\"].str.extract(r'(\\d+)')"
   ]
  },
  {
   "cell_type": "markdown",
   "id": "2a94f358",
   "metadata": {},
   "source": [
    "## Extract Only Numrical Value from Warranty Column"
   ]
  },
  {
   "cell_type": "code",
   "execution_count": 234,
   "id": "29e51cfe",
   "metadata": {},
   "outputs": [],
   "source": [
    "df[\"Warranty\"]=df[\"Warranty\"].str[0]"
   ]
  },
  {
   "cell_type": "code",
   "execution_count": 235,
   "id": "b4cf91a8",
   "metadata": {},
   "outputs": [
    {
     "data": {
      "text/html": [
       "<div>\n",
       "<style scoped>\n",
       "    .dataframe tbody tr th:only-of-type {\n",
       "        vertical-align: middle;\n",
       "    }\n",
       "\n",
       "    .dataframe tbody tr th {\n",
       "        vertical-align: top;\n",
       "    }\n",
       "\n",
       "    .dataframe thead th {\n",
       "        text-align: right;\n",
       "    }\n",
       "</style>\n",
       "<table border=\"1\" class=\"dataframe\">\n",
       "  <thead>\n",
       "    <tr style=\"text-align: right;\">\n",
       "      <th></th>\n",
       "      <th>Informations</th>\n",
       "      <th>Max_Speed</th>\n",
       "      <th>Electric_Consumption_Rating</th>\n",
       "      <th>Warranty</th>\n",
       "      <th>Prices</th>\n",
       "      <th>Discount_Percentage</th>\n",
       "    </tr>\n",
       "    <tr>\n",
       "      <th>S.No</th>\n",
       "      <th></th>\n",
       "      <th></th>\n",
       "      <th></th>\n",
       "      <th></th>\n",
       "      <th></th>\n",
       "      <th></th>\n",
       "    </tr>\n",
       "  </thead>\n",
       "  <tbody>\n",
       "    <tr>\n",
       "      <th>0</th>\n",
       "      <td>realme TechLife 7 kg 5 Star rating Semi Automa...</td>\n",
       "      <td>1450</td>\n",
       "      <td>5</td>\n",
       "      <td>2</td>\n",
       "      <td>9,200</td>\n",
       "      <td>48</td>\n",
       "    </tr>\n",
       "    <tr>\n",
       "      <th>1</th>\n",
       "      <td>FOXSKY 8 kg Semi Automatic Top Load Washing Ma...</td>\n",
       "      <td>700</td>\n",
       "      <td>5</td>\n",
       "      <td>2</td>\n",
       "      <td>12,190</td>\n",
       "      <td>45</td>\n",
       "    </tr>\n",
       "    <tr>\n",
       "      <th>2</th>\n",
       "      <td>realme TechLife 7.5 kg 5 Star Rating Semi Auto...</td>\n",
       "      <td>740</td>\n",
       "      <td>5</td>\n",
       "      <td>2</td>\n",
       "      <td>7,690</td>\n",
       "      <td>45</td>\n",
       "    </tr>\n",
       "    <tr>\n",
       "      <th>3</th>\n",
       "      <td>MarQ by Flipkart 6 kg 5 Star Rating Innowash R...</td>\n",
       "      <td>1350</td>\n",
       "      <td>5</td>\n",
       "      <td>2</td>\n",
       "      <td>6,490</td>\n",
       "      <td>20</td>\n",
       "    </tr>\n",
       "    <tr>\n",
       "      <th>4</th>\n",
       "      <td>SAMSUNG 7 kg 5 star, Ecobubble, Digital Invert...</td>\n",
       "      <td>1350</td>\n",
       "      <td>5</td>\n",
       "      <td>2</td>\n",
       "      <td>17,990</td>\n",
       "      <td>40</td>\n",
       "    </tr>\n",
       "  </tbody>\n",
       "</table>\n",
       "</div>"
      ],
      "text/plain": [
       "                                           Informations Max_Speed  \\\n",
       "S.No                                                                \n",
       "0     realme TechLife 7 kg 5 Star rating Semi Automa...      1450   \n",
       "1     FOXSKY 8 kg Semi Automatic Top Load Washing Ma...       700   \n",
       "2     realme TechLife 7.5 kg 5 Star Rating Semi Auto...       740   \n",
       "3     MarQ by Flipkart 6 kg 5 Star Rating Innowash R...      1350   \n",
       "4     SAMSUNG 7 kg 5 star, Ecobubble, Digital Invert...      1350   \n",
       "\n",
       "     Electric_Consumption_Rating Warranty  Prices Discount_Percentage  \n",
       "S.No                                                                   \n",
       "0                              5        2   9,200                  48  \n",
       "1                              5        2  12,190                  45  \n",
       "2                              5        2   7,690                  45  \n",
       "3                              5        2   6,490                  20  \n",
       "4                              5        2  17,990                  40  "
      ]
     },
     "execution_count": 235,
     "metadata": {},
     "output_type": "execute_result"
    }
   ],
   "source": [
    "df.head()"
   ]
  },
  {
   "cell_type": "markdown",
   "id": "6a17d301",
   "metadata": {},
   "source": [
    "## Extract Only Capacity From Informations Column"
   ]
  },
  {
   "cell_type": "code",
   "execution_count": 236,
   "id": "7da6c6ad",
   "metadata": {},
   "outputs": [],
   "source": [
    "df['Capacity_kg'] = df['Informations'].str.extract(r'(\\d+\\.\\d+|\\d+)\\s*kg')"
   ]
  },
  {
   "cell_type": "code",
   "execution_count": 237,
   "id": "30b9e51b",
   "metadata": {},
   "outputs": [
    {
     "data": {
      "text/html": [
       "<div>\n",
       "<style scoped>\n",
       "    .dataframe tbody tr th:only-of-type {\n",
       "        vertical-align: middle;\n",
       "    }\n",
       "\n",
       "    .dataframe tbody tr th {\n",
       "        vertical-align: top;\n",
       "    }\n",
       "\n",
       "    .dataframe thead th {\n",
       "        text-align: right;\n",
       "    }\n",
       "</style>\n",
       "<table border=\"1\" class=\"dataframe\">\n",
       "  <thead>\n",
       "    <tr style=\"text-align: right;\">\n",
       "      <th></th>\n",
       "      <th>Informations</th>\n",
       "      <th>Max_Speed</th>\n",
       "      <th>Electric_Consumption_Rating</th>\n",
       "      <th>Warranty</th>\n",
       "      <th>Prices</th>\n",
       "      <th>Discount_Percentage</th>\n",
       "      <th>Capacity_kg</th>\n",
       "    </tr>\n",
       "    <tr>\n",
       "      <th>S.No</th>\n",
       "      <th></th>\n",
       "      <th></th>\n",
       "      <th></th>\n",
       "      <th></th>\n",
       "      <th></th>\n",
       "      <th></th>\n",
       "      <th></th>\n",
       "    </tr>\n",
       "  </thead>\n",
       "  <tbody>\n",
       "    <tr>\n",
       "      <th>0</th>\n",
       "      <td>realme TechLife 7 kg 5 Star rating Semi Automa...</td>\n",
       "      <td>1450</td>\n",
       "      <td>5</td>\n",
       "      <td>2</td>\n",
       "      <td>9,200</td>\n",
       "      <td>48</td>\n",
       "      <td>7</td>\n",
       "    </tr>\n",
       "    <tr>\n",
       "      <th>1</th>\n",
       "      <td>FOXSKY 8 kg Semi Automatic Top Load Washing Ma...</td>\n",
       "      <td>700</td>\n",
       "      <td>5</td>\n",
       "      <td>2</td>\n",
       "      <td>12,190</td>\n",
       "      <td>45</td>\n",
       "      <td>8</td>\n",
       "    </tr>\n",
       "    <tr>\n",
       "      <th>2</th>\n",
       "      <td>realme TechLife 7.5 kg 5 Star Rating Semi Auto...</td>\n",
       "      <td>740</td>\n",
       "      <td>5</td>\n",
       "      <td>2</td>\n",
       "      <td>7,690</td>\n",
       "      <td>45</td>\n",
       "      <td>7.5</td>\n",
       "    </tr>\n",
       "    <tr>\n",
       "      <th>3</th>\n",
       "      <td>MarQ by Flipkart 6 kg 5 Star Rating Innowash R...</td>\n",
       "      <td>1350</td>\n",
       "      <td>5</td>\n",
       "      <td>2</td>\n",
       "      <td>6,490</td>\n",
       "      <td>20</td>\n",
       "      <td>6</td>\n",
       "    </tr>\n",
       "    <tr>\n",
       "      <th>4</th>\n",
       "      <td>SAMSUNG 7 kg 5 star, Ecobubble, Digital Invert...</td>\n",
       "      <td>1350</td>\n",
       "      <td>5</td>\n",
       "      <td>2</td>\n",
       "      <td>17,990</td>\n",
       "      <td>40</td>\n",
       "      <td>7</td>\n",
       "    </tr>\n",
       "  </tbody>\n",
       "</table>\n",
       "</div>"
      ],
      "text/plain": [
       "                                           Informations Max_Speed  \\\n",
       "S.No                                                                \n",
       "0     realme TechLife 7 kg 5 Star rating Semi Automa...      1450   \n",
       "1     FOXSKY 8 kg Semi Automatic Top Load Washing Ma...       700   \n",
       "2     realme TechLife 7.5 kg 5 Star Rating Semi Auto...       740   \n",
       "3     MarQ by Flipkart 6 kg 5 Star Rating Innowash R...      1350   \n",
       "4     SAMSUNG 7 kg 5 star, Ecobubble, Digital Invert...      1350   \n",
       "\n",
       "     Electric_Consumption_Rating Warranty  Prices Discount_Percentage  \\\n",
       "S.No                                                                    \n",
       "0                              5        2   9,200                  48   \n",
       "1                              5        2  12,190                  45   \n",
       "2                              5        2   7,690                  45   \n",
       "3                              5        2   6,490                  20   \n",
       "4                              5        2  17,990                  40   \n",
       "\n",
       "     Capacity_kg  \n",
       "S.No              \n",
       "0              7  \n",
       "1              8  \n",
       "2            7.5  \n",
       "3              6  \n",
       "4              7  "
      ]
     },
     "execution_count": 237,
     "metadata": {},
     "output_type": "execute_result"
    }
   ],
   "source": [
    "df.head()"
   ]
  },
  {
   "cell_type": "markdown",
   "id": "94f73a4e",
   "metadata": {},
   "source": [
    "## Extract Only Type From Informations Column"
   ]
  },
  {
   "cell_type": "code",
   "execution_count": 238,
   "id": "998bca66",
   "metadata": {},
   "outputs": [],
   "source": [
    "df['Type'] = df['Informations'].str.extract(r'(Semi Automatic|Fully Automatic)', expand=False)\n"
   ]
  },
  {
   "cell_type": "code",
   "execution_count": 239,
   "id": "39c39fd9",
   "metadata": {},
   "outputs": [
    {
     "data": {
      "text/html": [
       "<div>\n",
       "<style scoped>\n",
       "    .dataframe tbody tr th:only-of-type {\n",
       "        vertical-align: middle;\n",
       "    }\n",
       "\n",
       "    .dataframe tbody tr th {\n",
       "        vertical-align: top;\n",
       "    }\n",
       "\n",
       "    .dataframe thead th {\n",
       "        text-align: right;\n",
       "    }\n",
       "</style>\n",
       "<table border=\"1\" class=\"dataframe\">\n",
       "  <thead>\n",
       "    <tr style=\"text-align: right;\">\n",
       "      <th></th>\n",
       "      <th>Informations</th>\n",
       "      <th>Max_Speed</th>\n",
       "      <th>Electric_Consumption_Rating</th>\n",
       "      <th>Warranty</th>\n",
       "      <th>Prices</th>\n",
       "      <th>Discount_Percentage</th>\n",
       "      <th>Capacity_kg</th>\n",
       "      <th>Type</th>\n",
       "    </tr>\n",
       "    <tr>\n",
       "      <th>S.No</th>\n",
       "      <th></th>\n",
       "      <th></th>\n",
       "      <th></th>\n",
       "      <th></th>\n",
       "      <th></th>\n",
       "      <th></th>\n",
       "      <th></th>\n",
       "      <th></th>\n",
       "    </tr>\n",
       "  </thead>\n",
       "  <tbody>\n",
       "    <tr>\n",
       "      <th>0</th>\n",
       "      <td>realme TechLife 7 kg 5 Star rating Semi Automa...</td>\n",
       "      <td>1450</td>\n",
       "      <td>5</td>\n",
       "      <td>2</td>\n",
       "      <td>9,200</td>\n",
       "      <td>48</td>\n",
       "      <td>7</td>\n",
       "      <td>Semi Automatic</td>\n",
       "    </tr>\n",
       "    <tr>\n",
       "      <th>1</th>\n",
       "      <td>FOXSKY 8 kg Semi Automatic Top Load Washing Ma...</td>\n",
       "      <td>700</td>\n",
       "      <td>5</td>\n",
       "      <td>2</td>\n",
       "      <td>12,190</td>\n",
       "      <td>45</td>\n",
       "      <td>8</td>\n",
       "      <td>Semi Automatic</td>\n",
       "    </tr>\n",
       "    <tr>\n",
       "      <th>2</th>\n",
       "      <td>realme TechLife 7.5 kg 5 Star Rating Semi Auto...</td>\n",
       "      <td>740</td>\n",
       "      <td>5</td>\n",
       "      <td>2</td>\n",
       "      <td>7,690</td>\n",
       "      <td>45</td>\n",
       "      <td>7.5</td>\n",
       "      <td>Semi Automatic</td>\n",
       "    </tr>\n",
       "    <tr>\n",
       "      <th>3</th>\n",
       "      <td>MarQ by Flipkart 6 kg 5 Star Rating Innowash R...</td>\n",
       "      <td>1350</td>\n",
       "      <td>5</td>\n",
       "      <td>2</td>\n",
       "      <td>6,490</td>\n",
       "      <td>20</td>\n",
       "      <td>6</td>\n",
       "      <td>Semi Automatic</td>\n",
       "    </tr>\n",
       "    <tr>\n",
       "      <th>4</th>\n",
       "      <td>SAMSUNG 7 kg 5 star, Ecobubble, Digital Invert...</td>\n",
       "      <td>1350</td>\n",
       "      <td>5</td>\n",
       "      <td>2</td>\n",
       "      <td>17,990</td>\n",
       "      <td>40</td>\n",
       "      <td>7</td>\n",
       "      <td>Fully Automatic</td>\n",
       "    </tr>\n",
       "  </tbody>\n",
       "</table>\n",
       "</div>"
      ],
      "text/plain": [
       "                                           Informations Max_Speed  \\\n",
       "S.No                                                                \n",
       "0     realme TechLife 7 kg 5 Star rating Semi Automa...      1450   \n",
       "1     FOXSKY 8 kg Semi Automatic Top Load Washing Ma...       700   \n",
       "2     realme TechLife 7.5 kg 5 Star Rating Semi Auto...       740   \n",
       "3     MarQ by Flipkart 6 kg 5 Star Rating Innowash R...      1350   \n",
       "4     SAMSUNG 7 kg 5 star, Ecobubble, Digital Invert...      1350   \n",
       "\n",
       "     Electric_Consumption_Rating Warranty  Prices Discount_Percentage  \\\n",
       "S.No                                                                    \n",
       "0                              5        2   9,200                  48   \n",
       "1                              5        2  12,190                  45   \n",
       "2                              5        2   7,690                  45   \n",
       "3                              5        2   6,490                  20   \n",
       "4                              5        2  17,990                  40   \n",
       "\n",
       "     Capacity_kg             Type  \n",
       "S.No                               \n",
       "0              7   Semi Automatic  \n",
       "1              8   Semi Automatic  \n",
       "2            7.5   Semi Automatic  \n",
       "3              6   Semi Automatic  \n",
       "4              7  Fully Automatic  "
      ]
     },
     "execution_count": 239,
     "metadata": {},
     "output_type": "execute_result"
    }
   ],
   "source": [
    "df.head()"
   ]
  },
  {
   "cell_type": "markdown",
   "id": "ec421c41",
   "metadata": {},
   "source": [
    "## Extract Only Product Company Name"
   ]
  },
  {
   "cell_type": "code",
   "execution_count": 240,
   "id": "37f8a7ef",
   "metadata": {},
   "outputs": [],
   "source": [
    "def extract(name):\n",
    "    name=name.split()[0]\n",
    "    return name.strip()"
   ]
  },
  {
   "cell_type": "code",
   "execution_count": 241,
   "id": "5d584689",
   "metadata": {},
   "outputs": [],
   "source": [
    "df[\"Informations\"]=df[\"Informations\"].apply(extract)"
   ]
  },
  {
   "cell_type": "code",
   "execution_count": 242,
   "id": "2a2c4faa",
   "metadata": {},
   "outputs": [
    {
     "data": {
      "text/html": [
       "<div>\n",
       "<style scoped>\n",
       "    .dataframe tbody tr th:only-of-type {\n",
       "        vertical-align: middle;\n",
       "    }\n",
       "\n",
       "    .dataframe tbody tr th {\n",
       "        vertical-align: top;\n",
       "    }\n",
       "\n",
       "    .dataframe thead th {\n",
       "        text-align: right;\n",
       "    }\n",
       "</style>\n",
       "<table border=\"1\" class=\"dataframe\">\n",
       "  <thead>\n",
       "    <tr style=\"text-align: right;\">\n",
       "      <th></th>\n",
       "      <th>Informations</th>\n",
       "      <th>Max_Speed</th>\n",
       "      <th>Electric_Consumption_Rating</th>\n",
       "      <th>Warranty</th>\n",
       "      <th>Prices</th>\n",
       "      <th>Discount_Percentage</th>\n",
       "      <th>Capacity_kg</th>\n",
       "      <th>Type</th>\n",
       "    </tr>\n",
       "    <tr>\n",
       "      <th>S.No</th>\n",
       "      <th></th>\n",
       "      <th></th>\n",
       "      <th></th>\n",
       "      <th></th>\n",
       "      <th></th>\n",
       "      <th></th>\n",
       "      <th></th>\n",
       "      <th></th>\n",
       "    </tr>\n",
       "  </thead>\n",
       "  <tbody>\n",
       "    <tr>\n",
       "      <th>0</th>\n",
       "      <td>realme</td>\n",
       "      <td>1450</td>\n",
       "      <td>5</td>\n",
       "      <td>2</td>\n",
       "      <td>9,200</td>\n",
       "      <td>48</td>\n",
       "      <td>7</td>\n",
       "      <td>Semi Automatic</td>\n",
       "    </tr>\n",
       "    <tr>\n",
       "      <th>1</th>\n",
       "      <td>FOXSKY</td>\n",
       "      <td>700</td>\n",
       "      <td>5</td>\n",
       "      <td>2</td>\n",
       "      <td>12,190</td>\n",
       "      <td>45</td>\n",
       "      <td>8</td>\n",
       "      <td>Semi Automatic</td>\n",
       "    </tr>\n",
       "    <tr>\n",
       "      <th>2</th>\n",
       "      <td>realme</td>\n",
       "      <td>740</td>\n",
       "      <td>5</td>\n",
       "      <td>2</td>\n",
       "      <td>7,690</td>\n",
       "      <td>45</td>\n",
       "      <td>7.5</td>\n",
       "      <td>Semi Automatic</td>\n",
       "    </tr>\n",
       "    <tr>\n",
       "      <th>3</th>\n",
       "      <td>MarQ</td>\n",
       "      <td>1350</td>\n",
       "      <td>5</td>\n",
       "      <td>2</td>\n",
       "      <td>6,490</td>\n",
       "      <td>20</td>\n",
       "      <td>6</td>\n",
       "      <td>Semi Automatic</td>\n",
       "    </tr>\n",
       "    <tr>\n",
       "      <th>4</th>\n",
       "      <td>SAMSUNG</td>\n",
       "      <td>1350</td>\n",
       "      <td>5</td>\n",
       "      <td>2</td>\n",
       "      <td>17,990</td>\n",
       "      <td>40</td>\n",
       "      <td>7</td>\n",
       "      <td>Fully Automatic</td>\n",
       "    </tr>\n",
       "  </tbody>\n",
       "</table>\n",
       "</div>"
      ],
      "text/plain": [
       "     Informations Max_Speed Electric_Consumption_Rating Warranty  Prices  \\\n",
       "S.No                                                                       \n",
       "0          realme      1450                           5        2   9,200   \n",
       "1          FOXSKY       700                           5        2  12,190   \n",
       "2          realme       740                           5        2   7,690   \n",
       "3            MarQ      1350                           5        2   6,490   \n",
       "4         SAMSUNG      1350                           5        2  17,990   \n",
       "\n",
       "     Discount_Percentage Capacity_kg             Type  \n",
       "S.No                                                   \n",
       "0                     48           7   Semi Automatic  \n",
       "1                     45           8   Semi Automatic  \n",
       "2                     45         7.5   Semi Automatic  \n",
       "3                     20           6   Semi Automatic  \n",
       "4                     40           7  Fully Automatic  "
      ]
     },
     "execution_count": 242,
     "metadata": {},
     "output_type": "execute_result"
    }
   ],
   "source": [
    "df.head()"
   ]
  },
  {
   "cell_type": "markdown",
   "id": "c942d17b",
   "metadata": {},
   "source": [
    "## Rename Column Informations To Company"
   ]
  },
  {
   "cell_type": "code",
   "execution_count": 243,
   "id": "87ed5640",
   "metadata": {},
   "outputs": [],
   "source": [
    "df=df.rename(columns={\"Informations\":\"Company\"})"
   ]
  },
  {
   "cell_type": "code",
   "execution_count": 244,
   "id": "2de588ae",
   "metadata": {},
   "outputs": [
    {
     "data": {
      "text/html": [
       "<div>\n",
       "<style scoped>\n",
       "    .dataframe tbody tr th:only-of-type {\n",
       "        vertical-align: middle;\n",
       "    }\n",
       "\n",
       "    .dataframe tbody tr th {\n",
       "        vertical-align: top;\n",
       "    }\n",
       "\n",
       "    .dataframe thead th {\n",
       "        text-align: right;\n",
       "    }\n",
       "</style>\n",
       "<table border=\"1\" class=\"dataframe\">\n",
       "  <thead>\n",
       "    <tr style=\"text-align: right;\">\n",
       "      <th></th>\n",
       "      <th>Company</th>\n",
       "      <th>Max_Speed</th>\n",
       "      <th>Electric_Consumption_Rating</th>\n",
       "      <th>Warranty</th>\n",
       "      <th>Prices</th>\n",
       "      <th>Discount_Percentage</th>\n",
       "      <th>Capacity_kg</th>\n",
       "      <th>Type</th>\n",
       "    </tr>\n",
       "    <tr>\n",
       "      <th>S.No</th>\n",
       "      <th></th>\n",
       "      <th></th>\n",
       "      <th></th>\n",
       "      <th></th>\n",
       "      <th></th>\n",
       "      <th></th>\n",
       "      <th></th>\n",
       "      <th></th>\n",
       "    </tr>\n",
       "  </thead>\n",
       "  <tbody>\n",
       "    <tr>\n",
       "      <th>0</th>\n",
       "      <td>realme</td>\n",
       "      <td>1450</td>\n",
       "      <td>5</td>\n",
       "      <td>2</td>\n",
       "      <td>9,200</td>\n",
       "      <td>48</td>\n",
       "      <td>7</td>\n",
       "      <td>Semi Automatic</td>\n",
       "    </tr>\n",
       "    <tr>\n",
       "      <th>1</th>\n",
       "      <td>FOXSKY</td>\n",
       "      <td>700</td>\n",
       "      <td>5</td>\n",
       "      <td>2</td>\n",
       "      <td>12,190</td>\n",
       "      <td>45</td>\n",
       "      <td>8</td>\n",
       "      <td>Semi Automatic</td>\n",
       "    </tr>\n",
       "    <tr>\n",
       "      <th>2</th>\n",
       "      <td>realme</td>\n",
       "      <td>740</td>\n",
       "      <td>5</td>\n",
       "      <td>2</td>\n",
       "      <td>7,690</td>\n",
       "      <td>45</td>\n",
       "      <td>7.5</td>\n",
       "      <td>Semi Automatic</td>\n",
       "    </tr>\n",
       "    <tr>\n",
       "      <th>3</th>\n",
       "      <td>MarQ</td>\n",
       "      <td>1350</td>\n",
       "      <td>5</td>\n",
       "      <td>2</td>\n",
       "      <td>6,490</td>\n",
       "      <td>20</td>\n",
       "      <td>6</td>\n",
       "      <td>Semi Automatic</td>\n",
       "    </tr>\n",
       "    <tr>\n",
       "      <th>4</th>\n",
       "      <td>SAMSUNG</td>\n",
       "      <td>1350</td>\n",
       "      <td>5</td>\n",
       "      <td>2</td>\n",
       "      <td>17,990</td>\n",
       "      <td>40</td>\n",
       "      <td>7</td>\n",
       "      <td>Fully Automatic</td>\n",
       "    </tr>\n",
       "  </tbody>\n",
       "</table>\n",
       "</div>"
      ],
      "text/plain": [
       "      Company Max_Speed Electric_Consumption_Rating Warranty  Prices  \\\n",
       "S.No                                                                   \n",
       "0      realme      1450                           5        2   9,200   \n",
       "1      FOXSKY       700                           5        2  12,190   \n",
       "2      realme       740                           5        2   7,690   \n",
       "3        MarQ      1350                           5        2   6,490   \n",
       "4     SAMSUNG      1350                           5        2  17,990   \n",
       "\n",
       "     Discount_Percentage Capacity_kg             Type  \n",
       "S.No                                                   \n",
       "0                     48           7   Semi Automatic  \n",
       "1                     45           8   Semi Automatic  \n",
       "2                     45         7.5   Semi Automatic  \n",
       "3                     20           6   Semi Automatic  \n",
       "4                     40           7  Fully Automatic  "
      ]
     },
     "execution_count": 244,
     "metadata": {},
     "output_type": "execute_result"
    }
   ],
   "source": [
    "df.head()"
   ]
  },
  {
   "cell_type": "markdown",
   "id": "06841a61",
   "metadata": {},
   "source": [
    "## Rename Columns"
   ]
  },
  {
   "cell_type": "code",
   "execution_count": 245,
   "id": "5f3f16ae",
   "metadata": {},
   "outputs": [],
   "source": [
    "df=df.rename(columns={\"Max_Speed\":\"Max Speed\"})"
   ]
  },
  {
   "cell_type": "code",
   "execution_count": 246,
   "id": "fba00b24",
   "metadata": {},
   "outputs": [],
   "source": [
    "df=df.rename(columns={\"Electric_Consumption_Rating\":\"EConsumption Rating\"})"
   ]
  },
  {
   "cell_type": "code",
   "execution_count": 247,
   "id": "adabd347",
   "metadata": {},
   "outputs": [],
   "source": [
    "df=df.rename(columns={\"Prices\":\"Price\"})"
   ]
  },
  {
   "cell_type": "code",
   "execution_count": 248,
   "id": "00c1bfdc",
   "metadata": {},
   "outputs": [],
   "source": [
    "df=df.rename(columns={\"Discount_Percentage\":\"Discount\"})"
   ]
  },
  {
   "cell_type": "code",
   "execution_count": 249,
   "id": "948321c9",
   "metadata": {},
   "outputs": [],
   "source": [
    "df=df.rename(columns={\"Capacity_kg\":\"Capacity Kg\"})"
   ]
  },
  {
   "cell_type": "code",
   "execution_count": 250,
   "id": "13597862",
   "metadata": {},
   "outputs": [
    {
     "data": {
      "text/html": [
       "<div>\n",
       "<style scoped>\n",
       "    .dataframe tbody tr th:only-of-type {\n",
       "        vertical-align: middle;\n",
       "    }\n",
       "\n",
       "    .dataframe tbody tr th {\n",
       "        vertical-align: top;\n",
       "    }\n",
       "\n",
       "    .dataframe thead th {\n",
       "        text-align: right;\n",
       "    }\n",
       "</style>\n",
       "<table border=\"1\" class=\"dataframe\">\n",
       "  <thead>\n",
       "    <tr style=\"text-align: right;\">\n",
       "      <th></th>\n",
       "      <th>Company</th>\n",
       "      <th>Max Speed</th>\n",
       "      <th>EConsumption Rating</th>\n",
       "      <th>Warranty</th>\n",
       "      <th>Price</th>\n",
       "      <th>Discount</th>\n",
       "      <th>Capacity Kg</th>\n",
       "      <th>Type</th>\n",
       "    </tr>\n",
       "    <tr>\n",
       "      <th>S.No</th>\n",
       "      <th></th>\n",
       "      <th></th>\n",
       "      <th></th>\n",
       "      <th></th>\n",
       "      <th></th>\n",
       "      <th></th>\n",
       "      <th></th>\n",
       "      <th></th>\n",
       "    </tr>\n",
       "  </thead>\n",
       "  <tbody>\n",
       "    <tr>\n",
       "      <th>0</th>\n",
       "      <td>realme</td>\n",
       "      <td>1450</td>\n",
       "      <td>5</td>\n",
       "      <td>2</td>\n",
       "      <td>9,200</td>\n",
       "      <td>48</td>\n",
       "      <td>7</td>\n",
       "      <td>Semi Automatic</td>\n",
       "    </tr>\n",
       "    <tr>\n",
       "      <th>1</th>\n",
       "      <td>FOXSKY</td>\n",
       "      <td>700</td>\n",
       "      <td>5</td>\n",
       "      <td>2</td>\n",
       "      <td>12,190</td>\n",
       "      <td>45</td>\n",
       "      <td>8</td>\n",
       "      <td>Semi Automatic</td>\n",
       "    </tr>\n",
       "    <tr>\n",
       "      <th>2</th>\n",
       "      <td>realme</td>\n",
       "      <td>740</td>\n",
       "      <td>5</td>\n",
       "      <td>2</td>\n",
       "      <td>7,690</td>\n",
       "      <td>45</td>\n",
       "      <td>7.5</td>\n",
       "      <td>Semi Automatic</td>\n",
       "    </tr>\n",
       "    <tr>\n",
       "      <th>3</th>\n",
       "      <td>MarQ</td>\n",
       "      <td>1350</td>\n",
       "      <td>5</td>\n",
       "      <td>2</td>\n",
       "      <td>6,490</td>\n",
       "      <td>20</td>\n",
       "      <td>6</td>\n",
       "      <td>Semi Automatic</td>\n",
       "    </tr>\n",
       "    <tr>\n",
       "      <th>4</th>\n",
       "      <td>SAMSUNG</td>\n",
       "      <td>1350</td>\n",
       "      <td>5</td>\n",
       "      <td>2</td>\n",
       "      <td>17,990</td>\n",
       "      <td>40</td>\n",
       "      <td>7</td>\n",
       "      <td>Fully Automatic</td>\n",
       "    </tr>\n",
       "  </tbody>\n",
       "</table>\n",
       "</div>"
      ],
      "text/plain": [
       "      Company Max Speed EConsumption Rating Warranty   Price Discount  \\\n",
       "S.No                                                                    \n",
       "0      realme      1450                   5        2   9,200       48   \n",
       "1      FOXSKY       700                   5        2  12,190       45   \n",
       "2      realme       740                   5        2   7,690       45   \n",
       "3        MarQ      1350                   5        2   6,490       20   \n",
       "4     SAMSUNG      1350                   5        2  17,990       40   \n",
       "\n",
       "     Capacity Kg             Type  \n",
       "S.No                               \n",
       "0              7   Semi Automatic  \n",
       "1              8   Semi Automatic  \n",
       "2            7.5   Semi Automatic  \n",
       "3              6   Semi Automatic  \n",
       "4              7  Fully Automatic  "
      ]
     },
     "execution_count": 250,
     "metadata": {},
     "output_type": "execute_result"
    }
   ],
   "source": [
    "df.head()"
   ]
  },
  {
   "cell_type": "markdown",
   "id": "a89fce1d",
   "metadata": {},
   "source": [
    "## Change The Columns Type To Their Actual Type"
   ]
  },
  {
   "cell_type": "code",
   "execution_count": 253,
   "id": "66c7f50a",
   "metadata": {},
   "outputs": [],
   "source": [
    "df[\"Max Speed\"]=pd.to_numeric(df[\"Max Speed\"],errors=\"coerce\")"
   ]
  },
  {
   "cell_type": "code",
   "execution_count": 254,
   "id": "216377f6",
   "metadata": {},
   "outputs": [],
   "source": [
    "df[\"EConsumption Rating\"]=pd.to_numeric(df[\"EConsumption Rating\"],errors=\"coerce\")"
   ]
  },
  {
   "cell_type": "code",
   "execution_count": 255,
   "id": "e71f0deb",
   "metadata": {},
   "outputs": [],
   "source": [
    "df[\"Warranty\"]=pd.to_numeric(df[\"Warranty\"],errors=\"coerce\")"
   ]
  },
  {
   "cell_type": "code",
   "execution_count": 256,
   "id": "5dec8e77",
   "metadata": {},
   "outputs": [],
   "source": [
    "df[\"Price\"]=df[\"Price\"].str.replace(\",\",\"\")"
   ]
  },
  {
   "cell_type": "code",
   "execution_count": 258,
   "id": "fd1385fd",
   "metadata": {},
   "outputs": [],
   "source": [
    "df[\"Price\"]=pd.to_numeric(df[\"Price\"],errors=\"coerce\")"
   ]
  },
  {
   "cell_type": "code",
   "execution_count": 259,
   "id": "fe3cfef6",
   "metadata": {},
   "outputs": [],
   "source": [
    "df[\"Discount\"]=pd.to_numeric(df[\"Discount\"],errors=\"coerce\")"
   ]
  },
  {
   "cell_type": "code",
   "execution_count": 260,
   "id": "79fc9431",
   "metadata": {},
   "outputs": [],
   "source": [
    "df[\"Capacity Kg\"]=pd.to_numeric(df[\"Capacity Kg\"],errors=\"coerce\")"
   ]
  },
  {
   "cell_type": "code",
   "execution_count": 261,
   "id": "7eb9c8d1",
   "metadata": {},
   "outputs": [
    {
     "data": {
      "text/html": [
       "<div>\n",
       "<style scoped>\n",
       "    .dataframe tbody tr th:only-of-type {\n",
       "        vertical-align: middle;\n",
       "    }\n",
       "\n",
       "    .dataframe tbody tr th {\n",
       "        vertical-align: top;\n",
       "    }\n",
       "\n",
       "    .dataframe thead th {\n",
       "        text-align: right;\n",
       "    }\n",
       "</style>\n",
       "<table border=\"1\" class=\"dataframe\">\n",
       "  <thead>\n",
       "    <tr style=\"text-align: right;\">\n",
       "      <th></th>\n",
       "      <th>Company</th>\n",
       "      <th>Max Speed</th>\n",
       "      <th>EConsumption Rating</th>\n",
       "      <th>Warranty</th>\n",
       "      <th>Price</th>\n",
       "      <th>Discount</th>\n",
       "      <th>Capacity Kg</th>\n",
       "      <th>Type</th>\n",
       "    </tr>\n",
       "    <tr>\n",
       "      <th>S.No</th>\n",
       "      <th></th>\n",
       "      <th></th>\n",
       "      <th></th>\n",
       "      <th></th>\n",
       "      <th></th>\n",
       "      <th></th>\n",
       "      <th></th>\n",
       "      <th></th>\n",
       "    </tr>\n",
       "  </thead>\n",
       "  <tbody>\n",
       "    <tr>\n",
       "      <th>0</th>\n",
       "      <td>realme</td>\n",
       "      <td>1450.0</td>\n",
       "      <td>5.0</td>\n",
       "      <td>2.0</td>\n",
       "      <td>9200.0</td>\n",
       "      <td>48</td>\n",
       "      <td>7.0</td>\n",
       "      <td>Semi Automatic</td>\n",
       "    </tr>\n",
       "    <tr>\n",
       "      <th>1</th>\n",
       "      <td>FOXSKY</td>\n",
       "      <td>700.0</td>\n",
       "      <td>5.0</td>\n",
       "      <td>2.0</td>\n",
       "      <td>12190.0</td>\n",
       "      <td>45</td>\n",
       "      <td>8.0</td>\n",
       "      <td>Semi Automatic</td>\n",
       "    </tr>\n",
       "    <tr>\n",
       "      <th>2</th>\n",
       "      <td>realme</td>\n",
       "      <td>740.0</td>\n",
       "      <td>5.0</td>\n",
       "      <td>2.0</td>\n",
       "      <td>7690.0</td>\n",
       "      <td>45</td>\n",
       "      <td>7.5</td>\n",
       "      <td>Semi Automatic</td>\n",
       "    </tr>\n",
       "    <tr>\n",
       "      <th>3</th>\n",
       "      <td>MarQ</td>\n",
       "      <td>1350.0</td>\n",
       "      <td>5.0</td>\n",
       "      <td>2.0</td>\n",
       "      <td>6490.0</td>\n",
       "      <td>20</td>\n",
       "      <td>6.0</td>\n",
       "      <td>Semi Automatic</td>\n",
       "    </tr>\n",
       "    <tr>\n",
       "      <th>4</th>\n",
       "      <td>SAMSUNG</td>\n",
       "      <td>1350.0</td>\n",
       "      <td>5.0</td>\n",
       "      <td>2.0</td>\n",
       "      <td>17990.0</td>\n",
       "      <td>40</td>\n",
       "      <td>7.0</td>\n",
       "      <td>Fully Automatic</td>\n",
       "    </tr>\n",
       "  </tbody>\n",
       "</table>\n",
       "</div>"
      ],
      "text/plain": [
       "      Company  Max Speed  EConsumption Rating  Warranty    Price  Discount  \\\n",
       "S.No                                                                         \n",
       "0      realme     1450.0                  5.0       2.0   9200.0        48   \n",
       "1      FOXSKY      700.0                  5.0       2.0  12190.0        45   \n",
       "2      realme      740.0                  5.0       2.0   7690.0        45   \n",
       "3        MarQ     1350.0                  5.0       2.0   6490.0        20   \n",
       "4     SAMSUNG     1350.0                  5.0       2.0  17990.0        40   \n",
       "\n",
       "      Capacity Kg             Type  \n",
       "S.No                                \n",
       "0             7.0   Semi Automatic  \n",
       "1             8.0   Semi Automatic  \n",
       "2             7.5   Semi Automatic  \n",
       "3             6.0   Semi Automatic  \n",
       "4             7.0  Fully Automatic  "
      ]
     },
     "execution_count": 261,
     "metadata": {},
     "output_type": "execute_result"
    }
   ],
   "source": [
    "df.head()"
   ]
  },
  {
   "cell_type": "markdown",
   "id": "85edeaa0",
   "metadata": {},
   "source": [
    "## Dealing With Null Values"
   ]
  },
  {
   "cell_type": "markdown",
   "id": "f24bac0c",
   "metadata": {},
   "source": [
    "## Make A copy of Original Data As df2"
   ]
  },
  {
   "cell_type": "code",
   "execution_count": 263,
   "id": "6b99f6f2",
   "metadata": {},
   "outputs": [],
   "source": [
    "df2 = df.copy()"
   ]
  },
  {
   "cell_type": "code",
   "execution_count": 265,
   "id": "abd3c53e",
   "metadata": {},
   "outputs": [
    {
     "data": {
      "text/plain": [
       "1300.0"
      ]
     },
     "execution_count": 265,
     "metadata": {},
     "output_type": "execute_result"
    }
   ],
   "source": [
    "df[\"Max Speed\"].median()"
   ]
  },
  {
   "cell_type": "markdown",
   "id": "2b5741c8",
   "metadata": {},
   "source": [
    "## Replace Max Speed Null Values Into Mean Value of Max Speed"
   ]
  },
  {
   "cell_type": "code",
   "execution_count": 270,
   "id": "ec612150",
   "metadata": {},
   "outputs": [],
   "source": [
    "df2['maxspeedmean'] = df2['Max Speed'].fillna(df2['Max Speed'].mean())"
   ]
  },
  {
   "cell_type": "code",
   "execution_count": 271,
   "id": "74332573",
   "metadata": {},
   "outputs": [
    {
     "data": {
      "text/html": [
       "<div>\n",
       "<style scoped>\n",
       "    .dataframe tbody tr th:only-of-type {\n",
       "        vertical-align: middle;\n",
       "    }\n",
       "\n",
       "    .dataframe tbody tr th {\n",
       "        vertical-align: top;\n",
       "    }\n",
       "\n",
       "    .dataframe thead th {\n",
       "        text-align: right;\n",
       "    }\n",
       "</style>\n",
       "<table border=\"1\" class=\"dataframe\">\n",
       "  <thead>\n",
       "    <tr style=\"text-align: right;\">\n",
       "      <th></th>\n",
       "      <th>Company</th>\n",
       "      <th>Max Speed</th>\n",
       "      <th>EConsumption Rating</th>\n",
       "      <th>Warranty</th>\n",
       "      <th>Price</th>\n",
       "      <th>Discount</th>\n",
       "      <th>Capacity Kg</th>\n",
       "      <th>Type</th>\n",
       "      <th>maxspeedmean</th>\n",
       "    </tr>\n",
       "    <tr>\n",
       "      <th>S.No</th>\n",
       "      <th></th>\n",
       "      <th></th>\n",
       "      <th></th>\n",
       "      <th></th>\n",
       "      <th></th>\n",
       "      <th></th>\n",
       "      <th></th>\n",
       "      <th></th>\n",
       "      <th></th>\n",
       "    </tr>\n",
       "  </thead>\n",
       "  <tbody>\n",
       "    <tr>\n",
       "      <th>0</th>\n",
       "      <td>realme</td>\n",
       "      <td>1450.0</td>\n",
       "      <td>5.0</td>\n",
       "      <td>2.0</td>\n",
       "      <td>9200.0</td>\n",
       "      <td>48</td>\n",
       "      <td>7.0</td>\n",
       "      <td>Semi Automatic</td>\n",
       "      <td>1450.0</td>\n",
       "    </tr>\n",
       "    <tr>\n",
       "      <th>1</th>\n",
       "      <td>FOXSKY</td>\n",
       "      <td>700.0</td>\n",
       "      <td>5.0</td>\n",
       "      <td>2.0</td>\n",
       "      <td>12190.0</td>\n",
       "      <td>45</td>\n",
       "      <td>8.0</td>\n",
       "      <td>Semi Automatic</td>\n",
       "      <td>700.0</td>\n",
       "    </tr>\n",
       "    <tr>\n",
       "      <th>2</th>\n",
       "      <td>realme</td>\n",
       "      <td>740.0</td>\n",
       "      <td>5.0</td>\n",
       "      <td>2.0</td>\n",
       "      <td>7690.0</td>\n",
       "      <td>45</td>\n",
       "      <td>7.5</td>\n",
       "      <td>Semi Automatic</td>\n",
       "      <td>740.0</td>\n",
       "    </tr>\n",
       "    <tr>\n",
       "      <th>3</th>\n",
       "      <td>MarQ</td>\n",
       "      <td>1350.0</td>\n",
       "      <td>5.0</td>\n",
       "      <td>2.0</td>\n",
       "      <td>6490.0</td>\n",
       "      <td>20</td>\n",
       "      <td>6.0</td>\n",
       "      <td>Semi Automatic</td>\n",
       "      <td>1350.0</td>\n",
       "    </tr>\n",
       "    <tr>\n",
       "      <th>4</th>\n",
       "      <td>SAMSUNG</td>\n",
       "      <td>1350.0</td>\n",
       "      <td>5.0</td>\n",
       "      <td>2.0</td>\n",
       "      <td>17990.0</td>\n",
       "      <td>40</td>\n",
       "      <td>7.0</td>\n",
       "      <td>Fully Automatic</td>\n",
       "      <td>1350.0</td>\n",
       "    </tr>\n",
       "  </tbody>\n",
       "</table>\n",
       "</div>"
      ],
      "text/plain": [
       "      Company  Max Speed  EConsumption Rating  Warranty    Price  Discount  \\\n",
       "S.No                                                                         \n",
       "0      realme     1450.0                  5.0       2.0   9200.0        48   \n",
       "1      FOXSKY      700.0                  5.0       2.0  12190.0        45   \n",
       "2      realme      740.0                  5.0       2.0   7690.0        45   \n",
       "3        MarQ     1350.0                  5.0       2.0   6490.0        20   \n",
       "4     SAMSUNG     1350.0                  5.0       2.0  17990.0        40   \n",
       "\n",
       "      Capacity Kg             Type  maxspeedmean  \n",
       "S.No                                              \n",
       "0             7.0   Semi Automatic        1450.0  \n",
       "1             8.0   Semi Automatic         700.0  \n",
       "2             7.5   Semi Automatic         740.0  \n",
       "3             6.0   Semi Automatic        1350.0  \n",
       "4             7.0  Fully Automatic        1350.0  "
      ]
     },
     "execution_count": 271,
     "metadata": {},
     "output_type": "execute_result"
    }
   ],
   "source": [
    "df2.head()"
   ]
  },
  {
   "cell_type": "markdown",
   "id": "c4352382",
   "metadata": {},
   "source": [
    "## Check The distribution Of Max Speed After Replacing  Null Value With Mean"
   ]
  },
  {
   "cell_type": "code",
   "execution_count": 275,
   "id": "531d0fec",
   "metadata": {},
   "outputs": [
    {
     "data": {
      "text/plain": [
       "<Axes: xlabel='Max Speed', ylabel='Density'>"
      ]
     },
     "execution_count": 275,
     "metadata": {},
     "output_type": "execute_result"
    },
    {
     "data": {
      "image/png": "[encoded data removed]",
      "text/plain": [
       "<Figure size 640x480 with 1 Axes>"
      ]
     },
     "metadata": {},
     "output_type": "display_data"
    }
   ],
   "source": [
    "sns.kdeplot(df2[\"Max Speed\"],color=\"blue\")\n",
    "sns.kdeplot(df2[\"maxspeedmean\"],color=\"red\")"
   ]
  },
  {
   "cell_type": "markdown",
   "id": "6fbdc4bc",
   "metadata": {},
   "source": [
    "## Replace Max Speed Null Values With Max Speed median value"
   ]
  },
  {
   "cell_type": "code",
   "execution_count": 277,
   "id": "4fe1949a",
   "metadata": {},
   "outputs": [],
   "source": [
    "df2[\"maxspeedmedian\"] = df2[\"Max Speed\"].fillna(df2[\"Max Speed\"].median())"
   ]
  },
  {
   "cell_type": "markdown",
   "id": "3c266b27",
   "metadata": {},
   "source": [
    "## Check The distribution After Replacing The Max Speed Null Value With Median"
   ]
  },
  {
   "cell_type": "code",
   "execution_count": 279,
   "id": "fd525379",
   "metadata": {},
   "outputs": [
    {
     "data": {
      "text/plain": [
       "<Axes: xlabel='Max Speed', ylabel='Density'>"
      ]
     },
     "execution_count": 279,
     "metadata": {},
     "output_type": "execute_result"
    },
    {
     "data": {
      "image/png": "[encoded data removed]",
      "text/plain": [
       "<Figure size 640x480 with 1 Axes>"
      ]
     },
     "metadata": {},
     "output_type": "display_data"
    }
   ],
   "source": [
    "sns.kdeplot(df2[\"Max Speed\"])\n",
    "sns.kdeplot(df2[\"maxspeedmedian\"],color=\"red\")"
   ]
  },
  {
   "cell_type": "markdown",
   "id": "6867e4d7",
   "metadata": {},
   "source": [
    "## Compare The Variance Of MeanNullValue MedianNullValue To The Original MaxSpeed Column"
   ]
  },
  {
   "cell_type": "code",
   "execution_count": 291,
   "id": "cddabf77",
   "metadata": {},
   "outputs": [
    {
     "data": {
      "text/plain": [
       "68942.08216124034"
      ]
     },
     "execution_count": 291,
     "metadata": {},
     "output_type": "execute_result"
    }
   ],
   "source": [
    "df2[\"maxspeedmean\"].var()"
   ]
  },
  {
   "cell_type": "code",
   "execution_count": 292,
   "id": "23c783b4",
   "metadata": {},
   "outputs": [
    {
     "data": {
      "text/plain": [
       "97942.57561338716"
      ]
     },
     "execution_count": 292,
     "metadata": {},
     "output_type": "execute_result"
    }
   ],
   "source": [
    "df2[\"Max Speed\"].var()"
   ]
  },
  {
   "cell_type": "code",
   "execution_count": 295,
   "id": "22beccf2",
   "metadata": {},
   "outputs": [
    {
     "data": {
      "text/plain": [
       "74318.24876626254"
      ]
     },
     "execution_count": 295,
     "metadata": {},
     "output_type": "execute_result"
    }
   ],
   "source": [
    "df2[\"maxspeedmedian\"].var()"
   ]
  },
  {
   "cell_type": "markdown",
   "id": "26832469",
   "metadata": {},
   "source": [
    "## Replace NullValues Of EConsumption Rating With Mode"
   ]
  },
  {
   "cell_type": "code",
   "execution_count": 300,
   "id": "f5b326ea",
   "metadata": {},
   "outputs": [],
   "source": [
    "df2[\"new_econr\"]=df2[\"EConsumption Rating\"].fillna(5)"
   ]
  },
  {
   "cell_type": "code",
   "execution_count": 301,
   "id": "8d4f4ce7",
   "metadata": {},
   "outputs": [
    {
     "data": {
      "text/html": [
       "<div>\n",
       "<style scoped>\n",
       "    .dataframe tbody tr th:only-of-type {\n",
       "        vertical-align: middle;\n",
       "    }\n",
       "\n",
       "    .dataframe tbody tr th {\n",
       "        vertical-align: top;\n",
       "    }\n",
       "\n",
       "    .dataframe thead th {\n",
       "        text-align: right;\n",
       "    }\n",
       "</style>\n",
       "<table border=\"1\" class=\"dataframe\">\n",
       "  <thead>\n",
       "    <tr style=\"text-align: right;\">\n",
       "      <th></th>\n",
       "      <th>Company</th>\n",
       "      <th>Max Speed</th>\n",
       "      <th>EConsumption Rating</th>\n",
       "      <th>Warranty</th>\n",
       "      <th>Price</th>\n",
       "      <th>Discount</th>\n",
       "      <th>Capacity Kg</th>\n",
       "      <th>Type</th>\n",
       "      <th>maxspeedmean</th>\n",
       "      <th>maxspeedmedian</th>\n",
       "      <th>maxspeedmode</th>\n",
       "      <th>new_econr</th>\n",
       "    </tr>\n",
       "    <tr>\n",
       "      <th>S.No</th>\n",
       "      <th></th>\n",
       "      <th></th>\n",
       "      <th></th>\n",
       "      <th></th>\n",
       "      <th></th>\n",
       "      <th></th>\n",
       "      <th></th>\n",
       "      <th></th>\n",
       "      <th></th>\n",
       "      <th></th>\n",
       "      <th></th>\n",
       "      <th></th>\n",
       "    </tr>\n",
       "  </thead>\n",
       "  <tbody>\n",
       "    <tr>\n",
       "      <th>0</th>\n",
       "      <td>realme</td>\n",
       "      <td>1450.0</td>\n",
       "      <td>5.0</td>\n",
       "      <td>2.0</td>\n",
       "      <td>9200.0</td>\n",
       "      <td>48</td>\n",
       "      <td>7.0</td>\n",
       "      <td>Semi Automatic</td>\n",
       "      <td>1450.000000</td>\n",
       "      <td>1450.0</td>\n",
       "      <td>1450.0</td>\n",
       "      <td>5.0</td>\n",
       "    </tr>\n",
       "    <tr>\n",
       "      <th>1</th>\n",
       "      <td>FOXSKY</td>\n",
       "      <td>700.0</td>\n",
       "      <td>5.0</td>\n",
       "      <td>2.0</td>\n",
       "      <td>12190.0</td>\n",
       "      <td>45</td>\n",
       "      <td>8.0</td>\n",
       "      <td>Semi Automatic</td>\n",
       "      <td>700.000000</td>\n",
       "      <td>700.0</td>\n",
       "      <td>700.0</td>\n",
       "      <td>5.0</td>\n",
       "    </tr>\n",
       "    <tr>\n",
       "      <th>2</th>\n",
       "      <td>realme</td>\n",
       "      <td>740.0</td>\n",
       "      <td>5.0</td>\n",
       "      <td>2.0</td>\n",
       "      <td>7690.0</td>\n",
       "      <td>45</td>\n",
       "      <td>7.5</td>\n",
       "      <td>Semi Automatic</td>\n",
       "      <td>740.000000</td>\n",
       "      <td>740.0</td>\n",
       "      <td>740.0</td>\n",
       "      <td>5.0</td>\n",
       "    </tr>\n",
       "    <tr>\n",
       "      <th>3</th>\n",
       "      <td>MarQ</td>\n",
       "      <td>1350.0</td>\n",
       "      <td>5.0</td>\n",
       "      <td>2.0</td>\n",
       "      <td>6490.0</td>\n",
       "      <td>20</td>\n",
       "      <td>6.0</td>\n",
       "      <td>Semi Automatic</td>\n",
       "      <td>1350.000000</td>\n",
       "      <td>1350.0</td>\n",
       "      <td>1350.0</td>\n",
       "      <td>5.0</td>\n",
       "    </tr>\n",
       "    <tr>\n",
       "      <th>4</th>\n",
       "      <td>SAMSUNG</td>\n",
       "      <td>1350.0</td>\n",
       "      <td>5.0</td>\n",
       "      <td>2.0</td>\n",
       "      <td>17990.0</td>\n",
       "      <td>40</td>\n",
       "      <td>7.0</td>\n",
       "      <td>Fully Automatic</td>\n",
       "      <td>1350.000000</td>\n",
       "      <td>1350.0</td>\n",
       "      <td>1350.0</td>\n",
       "      <td>5.0</td>\n",
       "    </tr>\n",
       "    <tr>\n",
       "      <th>...</th>\n",
       "      <td>...</td>\n",
       "      <td>...</td>\n",
       "      <td>...</td>\n",
       "      <td>...</td>\n",
       "      <td>...</td>\n",
       "      <td>...</td>\n",
       "      <td>...</td>\n",
       "      <td>...</td>\n",
       "      <td>...</td>\n",
       "      <td>...</td>\n",
       "      <td>...</td>\n",
       "      <td>...</td>\n",
       "    </tr>\n",
       "    <tr>\n",
       "      <th>739</th>\n",
       "      <td>Whirlpool</td>\n",
       "      <td>NaN</td>\n",
       "      <td>NaN</td>\n",
       "      <td>NaN</td>\n",
       "      <td>12190.0</td>\n",
       "      <td>31</td>\n",
       "      <td>8.0</td>\n",
       "      <td>Semi Automatic</td>\n",
       "      <td>1139.438931</td>\n",
       "      <td>1300.0</td>\n",
       "      <td>NaN</td>\n",
       "      <td>5.0</td>\n",
       "    </tr>\n",
       "    <tr>\n",
       "      <th>740</th>\n",
       "      <td>FOXSKY</td>\n",
       "      <td>NaN</td>\n",
       "      <td>NaN</td>\n",
       "      <td>NaN</td>\n",
       "      <td>20999.0</td>\n",
       "      <td>38</td>\n",
       "      <td>9.5</td>\n",
       "      <td>Semi Automatic</td>\n",
       "      <td>1139.438931</td>\n",
       "      <td>1300.0</td>\n",
       "      <td>NaN</td>\n",
       "      <td>5.0</td>\n",
       "    </tr>\n",
       "    <tr>\n",
       "      <th>741</th>\n",
       "      <td>Voltas</td>\n",
       "      <td>NaN</td>\n",
       "      <td>NaN</td>\n",
       "      <td>NaN</td>\n",
       "      <td>16850.0</td>\n",
       "      <td>12</td>\n",
       "      <td>9.0</td>\n",
       "      <td>Semi Automatic</td>\n",
       "      <td>1139.438931</td>\n",
       "      <td>1300.0</td>\n",
       "      <td>NaN</td>\n",
       "      <td>5.0</td>\n",
       "    </tr>\n",
       "    <tr>\n",
       "      <th>742</th>\n",
       "      <td>Godrej</td>\n",
       "      <td>NaN</td>\n",
       "      <td>NaN</td>\n",
       "      <td>NaN</td>\n",
       "      <td>NaN</td>\n",
       "      <td>40</td>\n",
       "      <td>7.5</td>\n",
       "      <td>Fully Automatic</td>\n",
       "      <td>1139.438931</td>\n",
       "      <td>1300.0</td>\n",
       "      <td>NaN</td>\n",
       "      <td>5.0</td>\n",
       "    </tr>\n",
       "    <tr>\n",
       "      <th>743</th>\n",
       "      <td>Haier</td>\n",
       "      <td>NaN</td>\n",
       "      <td>NaN</td>\n",
       "      <td>NaN</td>\n",
       "      <td>NaN</td>\n",
       "      <td>45</td>\n",
       "      <td>9.0</td>\n",
       "      <td>Fully Automatic</td>\n",
       "      <td>1139.438931</td>\n",
       "      <td>1300.0</td>\n",
       "      <td>NaN</td>\n",
       "      <td>5.0</td>\n",
       "    </tr>\n",
       "  </tbody>\n",
       "</table>\n",
       "<p>744 rows × 12 columns</p>\n",
       "</div>"
      ],
      "text/plain": [
       "        Company  Max Speed  EConsumption Rating  Warranty    Price  Discount  \\\n",
       "S.No                                                                           \n",
       "0        realme     1450.0                  5.0       2.0   9200.0        48   \n",
       "1        FOXSKY      700.0                  5.0       2.0  12190.0        45   \n",
       "2        realme      740.0                  5.0       2.0   7690.0        45   \n",
       "3          MarQ     1350.0                  5.0       2.0   6490.0        20   \n",
       "4       SAMSUNG     1350.0                  5.0       2.0  17990.0        40   \n",
       "...         ...        ...                  ...       ...      ...       ...   \n",
       "739   Whirlpool        NaN                  NaN       NaN  12190.0        31   \n",
       "740      FOXSKY        NaN                  NaN       NaN  20999.0        38   \n",
       "741      Voltas        NaN                  NaN       NaN  16850.0        12   \n",
       "742      Godrej        NaN                  NaN       NaN      NaN        40   \n",
       "743       Haier        NaN                  NaN       NaN      NaN        45   \n",
       "\n",
       "      Capacity Kg             Type  maxspeedmean  maxspeedmedian  \\\n",
       "S.No                                                               \n",
       "0             7.0   Semi Automatic   1450.000000          1450.0   \n",
       "1             8.0   Semi Automatic    700.000000           700.0   \n",
       "2             7.5   Semi Automatic    740.000000           740.0   \n",
       "3             6.0   Semi Automatic   1350.000000          1350.0   \n",
       "4             7.0  Fully Automatic   1350.000000          1350.0   \n",
       "...           ...              ...           ...             ...   \n",
       "739           8.0   Semi Automatic   1139.438931          1300.0   \n",
       "740           9.5   Semi Automatic   1139.438931          1300.0   \n",
       "741           9.0   Semi Automatic   1139.438931          1300.0   \n",
       "742           7.5  Fully Automatic   1139.438931          1300.0   \n",
       "743           9.0  Fully Automatic   1139.438931          1300.0   \n",
       "\n",
       "      maxspeedmode  new_econr  \n",
       "S.No                           \n",
       "0           1450.0        5.0  \n",
       "1            700.0        5.0  \n",
       "2            740.0        5.0  \n",
       "3           1350.0        5.0  \n",
       "4           1350.0        5.0  \n",
       "...            ...        ...  \n",
       "739            NaN        5.0  \n",
       "740            NaN        5.0  \n",
       "741            NaN        5.0  \n",
       "742            NaN        5.0  \n",
       "743            NaN        5.0  \n",
       "\n",
       "[744 rows x 12 columns]"
      ]
     },
     "execution_count": 301,
     "metadata": {},
     "output_type": "execute_result"
    }
   ],
   "source": [
    "df2"
   ]
  },
  {
   "cell_type": "markdown",
   "id": "41a90d8d",
   "metadata": {},
   "source": [
    "## This Is The Distribution After Replace Null Values With Mode"
   ]
  },
  {
   "cell_type": "code",
   "execution_count": 303,
   "id": "79d0d676",
   "metadata": {},
   "outputs": [
    {
     "data": {
      "text/plain": [
       "<Axes: xlabel='EConsumption Rating', ylabel='Density'>"
      ]
     },
     "execution_count": 303,
     "metadata": {},
     "output_type": "execute_result"
    },
    {
     "data": {
      "image/png": "[encoded data removed]",
      "text/plain": [
       "<Figure size 640x480 with 1 Axes>"
      ]
     },
     "metadata": {},
     "output_type": "display_data"
    }
   ],
   "source": [
    "sns.kdeplot(df2[\"EConsumption Rating\"])\n",
    "sns.kdeplot(df2[\"new_econr\"],color=\"red\")"
   ]
  },
  {
   "cell_type": "markdown",
   "id": "e6b1ce75",
   "metadata": {},
   "source": [
    "## Replace The Null Values Of Warranty With Mean"
   ]
  },
  {
   "cell_type": "code",
   "execution_count": 307,
   "id": "b1f89d8e",
   "metadata": {},
   "outputs": [],
   "source": [
    "df2[\"warrantymean\"]=df2[\"Warranty\"].fillna(df2[\"Warranty\"].mean())"
   ]
  },
  {
   "cell_type": "markdown",
   "id": "58ea648a",
   "metadata": {},
   "source": [
    "## Distribution Of Warranty After Replacing Null Value With Mean"
   ]
  },
  {
   "cell_type": "code",
   "execution_count": 309,
   "id": "a62a8a20",
   "metadata": {},
   "outputs": [
    {
     "data": {
      "text/plain": [
       "<Axes: xlabel='Warranty', ylabel='Density'>"
      ]
     },
     "execution_count": 309,
     "metadata": {},
     "output_type": "execute_result"
    },
    {
     "data": {
      "image/png": "[encoded data removed]",
      "text/plain": [
       "<Figure size 640x480 with 1 Axes>"
      ]
     },
     "metadata": {},
     "output_type": "display_data"
    }
   ],
   "source": [
    "sns.kdeplot(df2[\"Warranty\"])\n",
    "sns.kdeplot(df2[\"warrantymean\"],color=\"red\")"
   ]
  },
  {
   "cell_type": "markdown",
   "id": "8169dd2a",
   "metadata": {},
   "source": [
    "## Replace The Null Values Of Warranty With Median"
   ]
  },
  {
   "cell_type": "code",
   "execution_count": 310,
   "id": "323ef47a",
   "metadata": {},
   "outputs": [],
   "source": [
    "df2[\"warrantymedian\"]=df2[\"Warranty\"].fillna(df2[\"Warranty\"].median())"
   ]
  },
  {
   "cell_type": "markdown",
   "id": "281d0611",
   "metadata": {},
   "source": [
    "## Distribution Of Warranty After Replacing Null Value With Median"
   ]
  },
  {
   "cell_type": "code",
   "execution_count": 313,
   "id": "1def6b48",
   "metadata": {},
   "outputs": [
    {
     "data": {
      "text/plain": [
       "<Axes: xlabel='Warranty', ylabel='Density'>"
      ]
     },
     "execution_count": 313,
     "metadata": {},
     "output_type": "execute_result"
    },
    {
     "data": {
      "image/png": "[encoded data removed]",
      "text/plain": [
       "<Figure size 640x480 with 1 Axes>"
      ]
     },
     "metadata": {},
     "output_type": "display_data"
    }
   ],
   "source": [
    "sns.kdeplot(df2[\"Warranty\"])\n",
    "sns.kdeplot(df2[\"warrantymedian\"],color=\"red\")"
   ]
  },
  {
   "cell_type": "markdown",
   "id": "9fa2165c",
   "metadata": {},
   "source": [
    "## Check The Variance"
   ]
  },
  {
   "cell_type": "code",
   "execution_count": 314,
   "id": "12328677",
   "metadata": {},
   "outputs": [
    {
     "data": {
      "text/plain": [
       "0.4223215965498748"
      ]
     },
     "execution_count": 314,
     "metadata": {},
     "output_type": "execute_result"
    }
   ],
   "source": [
    "df2[\"warrantymedian\"].var()"
   ]
  },
  {
   "cell_type": "code",
   "execution_count": 316,
   "id": "c6397eb6",
   "metadata": {},
   "outputs": [
    {
     "data": {
      "text/plain": [
       "0.4197103595937182"
      ]
     },
     "execution_count": 316,
     "metadata": {},
     "output_type": "execute_result"
    }
   ],
   "source": [
    "df2[\"warrantymean\"].var()"
   ]
  },
  {
   "cell_type": "code",
   "execution_count": 317,
   "id": "4e71b943",
   "metadata": {},
   "outputs": [
    {
     "data": {
      "text/plain": [
       "0.5509625391839799"
      ]
     },
     "execution_count": 317,
     "metadata": {},
     "output_type": "execute_result"
    }
   ],
   "source": [
    "df2[\"Warranty\"].var()"
   ]
  },
  {
   "cell_type": "markdown",
   "id": "013b1753",
   "metadata": {},
   "source": [
    "## Replace Null Values in Original Data After Knowing The Best Value That Replace Null Values"
   ]
  },
  {
   "cell_type": "code",
   "execution_count": 352,
   "id": "a600e567",
   "metadata": {},
   "outputs": [],
   "source": [
    "df[\"Max Speed\"]=df[\"Max Speed\"].fillna(df[\"Max Speed\"].median())"
   ]
  },
  {
   "cell_type": "code",
   "execution_count": 354,
   "id": "5962d9b5",
   "metadata": {},
   "outputs": [],
   "source": [
    "df[\"EConsumption Rating\"]=df[\"EConsumption Rating\"].fillna(5)"
   ]
  },
  {
   "cell_type": "code",
   "execution_count": 356,
   "id": "2ca19d6b",
   "metadata": {},
   "outputs": [],
   "source": [
    "df[\"Warranty\"]=df[\"Warranty\"].fillna(df[\"Warranty\"].median())"
   ]
  },
  {
   "cell_type": "code",
   "execution_count": 357,
   "id": "dce7130f",
   "metadata": {},
   "outputs": [],
   "source": [
    "df.dropna(subset=[\"Price\"],inplace=True) # 2 Null Values"
   ]
  },
  {
   "cell_type": "code",
   "execution_count": 359,
   "id": "4bc4804b",
   "metadata": {},
   "outputs": [],
   "source": [
    "df.dropna(subset=[\"Type\"],inplace=True) # 12 Null Values"
   ]
  },
  {
   "cell_type": "code",
   "execution_count": 361,
   "id": "89943079",
   "metadata": {},
   "outputs": [],
   "source": [
    "df.dropna(subset=[\"Capacity Kg\"],inplace=True) # 8 Null Values"
   ]
  },
  {
   "cell_type": "markdown",
   "id": "1dd3ffb3",
   "metadata": {},
   "source": [
    "## So Finally Their is No Null Values In The Data"
   ]
  },
  {
   "cell_type": "code",
   "execution_count": 362,
   "id": "6f20a7de",
   "metadata": {},
   "outputs": [
    {
     "data": {
      "text/plain": [
       "Company                0\n",
       "Max Speed              0\n",
       "EConsumption Rating    0\n",
       "Warranty               0\n",
       "Price                  0\n",
       "Discount               0\n",
       "Capacity Kg            0\n",
       "Type                   0\n",
       "dtype: int64"
      ]
     },
     "execution_count": 362,
     "metadata": {},
     "output_type": "execute_result"
    }
   ],
   "source": [
    "df.isnull().sum()"
   ]
  },
  {
   "cell_type": "code",
   "execution_count": 363,
   "id": "bb76cc05",
   "metadata": {},
   "outputs": [
    {
     "data": {
      "text/html": [
       "<div>\n",
       "<style scoped>\n",
       "    .dataframe tbody tr th:only-of-type {\n",
       "        vertical-align: middle;\n",
       "    }\n",
       "\n",
       "    .dataframe tbody tr th {\n",
       "        vertical-align: top;\n",
       "    }\n",
       "\n",
       "    .dataframe thead th {\n",
       "        text-align: right;\n",
       "    }\n",
       "</style>\n",
       "<table border=\"1\" class=\"dataframe\">\n",
       "  <thead>\n",
       "    <tr style=\"text-align: right;\">\n",
       "      <th></th>\n",
       "      <th>Company</th>\n",
       "      <th>Max Speed</th>\n",
       "      <th>EConsumption Rating</th>\n",
       "      <th>Warranty</th>\n",
       "      <th>Price</th>\n",
       "      <th>Discount</th>\n",
       "      <th>Capacity Kg</th>\n",
       "      <th>Type</th>\n",
       "    </tr>\n",
       "    <tr>\n",
       "      <th>S.No</th>\n",
       "      <th></th>\n",
       "      <th></th>\n",
       "      <th></th>\n",
       "      <th></th>\n",
       "      <th></th>\n",
       "      <th></th>\n",
       "      <th></th>\n",
       "      <th></th>\n",
       "    </tr>\n",
       "  </thead>\n",
       "  <tbody>\n",
       "    <tr>\n",
       "      <th>0</th>\n",
       "      <td>realme</td>\n",
       "      <td>1450.0</td>\n",
       "      <td>5.0</td>\n",
       "      <td>2.0</td>\n",
       "      <td>9200.0</td>\n",
       "      <td>48</td>\n",
       "      <td>7.0</td>\n",
       "      <td>Semi Automatic</td>\n",
       "    </tr>\n",
       "    <tr>\n",
       "      <th>1</th>\n",
       "      <td>FOXSKY</td>\n",
       "      <td>700.0</td>\n",
       "      <td>5.0</td>\n",
       "      <td>2.0</td>\n",
       "      <td>12190.0</td>\n",
       "      <td>45</td>\n",
       "      <td>8.0</td>\n",
       "      <td>Semi Automatic</td>\n",
       "    </tr>\n",
       "    <tr>\n",
       "      <th>2</th>\n",
       "      <td>realme</td>\n",
       "      <td>740.0</td>\n",
       "      <td>5.0</td>\n",
       "      <td>2.0</td>\n",
       "      <td>7690.0</td>\n",
       "      <td>45</td>\n",
       "      <td>7.5</td>\n",
       "      <td>Semi Automatic</td>\n",
       "    </tr>\n",
       "    <tr>\n",
       "      <th>3</th>\n",
       "      <td>MarQ</td>\n",
       "      <td>1350.0</td>\n",
       "      <td>5.0</td>\n",
       "      <td>2.0</td>\n",
       "      <td>6490.0</td>\n",
       "      <td>20</td>\n",
       "      <td>6.0</td>\n",
       "      <td>Semi Automatic</td>\n",
       "    </tr>\n",
       "    <tr>\n",
       "      <th>4</th>\n",
       "      <td>SAMSUNG</td>\n",
       "      <td>1350.0</td>\n",
       "      <td>5.0</td>\n",
       "      <td>2.0</td>\n",
       "      <td>17990.0</td>\n",
       "      <td>40</td>\n",
       "      <td>7.0</td>\n",
       "      <td>Fully Automatic</td>\n",
       "    </tr>\n",
       "  </tbody>\n",
       "</table>\n",
       "</div>"
      ],
      "text/plain": [
       "      Company  Max Speed  EConsumption Rating  Warranty    Price  Discount  \\\n",
       "S.No                                                                         \n",
       "0      realme     1450.0                  5.0       2.0   9200.0        48   \n",
       "1      FOXSKY      700.0                  5.0       2.0  12190.0        45   \n",
       "2      realme      740.0                  5.0       2.0   7690.0        45   \n",
       "3        MarQ     1350.0                  5.0       2.0   6490.0        20   \n",
       "4     SAMSUNG     1350.0                  5.0       2.0  17990.0        40   \n",
       "\n",
       "      Capacity Kg             Type  \n",
       "S.No                                \n",
       "0             7.0   Semi Automatic  \n",
       "1             8.0   Semi Automatic  \n",
       "2             7.5   Semi Automatic  \n",
       "3             6.0   Semi Automatic  \n",
       "4             7.0  Fully Automatic  "
      ]
     },
     "execution_count": 363,
     "metadata": {},
     "output_type": "execute_result"
    }
   ],
   "source": [
    "df.head()"
   ]
  },
  {
   "cell_type": "markdown",
   "id": "e27cba37",
   "metadata": {},
   "source": [
    "### Data Info"
   ]
  },
  {
   "cell_type": "code",
   "execution_count": 364,
   "id": "dafaf06e",
   "metadata": {},
   "outputs": [
    {
     "name": "stdout",
     "output_type": "stream",
     "text": [
      "<class 'pandas.core.frame.DataFrame'>\n",
      "Index: 676 entries, 0 to 741\n",
      "Data columns (total 8 columns):\n",
      " #   Column               Non-Null Count  Dtype  \n",
      "---  ------               --------------  -----  \n",
      " 0   Company              676 non-null    object \n",
      " 1   Max Speed            676 non-null    float64\n",
      " 2   EConsumption Rating  676 non-null    float64\n",
      " 3   Warranty             676 non-null    float64\n",
      " 4   Price                676 non-null    float64\n",
      " 5   Discount             676 non-null    int64  \n",
      " 6   Capacity Kg          676 non-null    float64\n",
      " 7   Type                 676 non-null    object \n",
      "dtypes: float64(5), int64(1), object(2)\n",
      "memory usage: 47.5+ KB\n"
     ]
    }
   ],
   "source": [
    "df.info()"
   ]
  },
  {
   "cell_type": "markdown",
   "id": "2b565152",
   "metadata": {},
   "source": [
    "## Export The Clean Dataset"
   ]
  },
  {
   "cell_type": "code",
   "execution_count": 367,
   "id": "b197c013",
   "metadata": {},
   "outputs": [],
   "source": [
    "df.to_csv(\"updated_flipkart.csv\")"
   ]
  },
  {
   "cell_type": "markdown",
   "id": "eb69ec0b",
   "metadata": {},
   "source": [
    "# Thank You!"
   ]
  },
  {
   "cell_type": "code",
   "execution_count": null,
   "id": "1cae4a8a",
   "metadata": {},
   "outputs": [],
   "source": []
  }
 ],
 "metadata": {
  "kernelspec": {
   "display_name": "Python 3 (ipykernel)",
   "language": "python",
   "name": "python3"
  },
  "language_info": {
   "codemirror_mode": {
    "name": "ipython",
    "version": 3
   },
   "file_extension": ".py",
   "mimetype": "text/x-python",
   "name": "python",
   "nbconvert_exporter": "python",
   "pygments_lexer": "ipython3",
   "version": "3.11.7"
  }
 },
 "nbformat": 4,
 "nbformat_minor": 5
}
